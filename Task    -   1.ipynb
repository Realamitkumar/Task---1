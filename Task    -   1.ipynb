{
 "cells": [
  {
   "cell_type": "markdown",
   "id": "03a207a9",
   "metadata": {},
   "source": [
    "**TASK 1**\n",
    "\n",
    "\n",
    "**Description**\n",
    "\n",
    "● There are 2 datasets present in the file. Data 1 and Data 2\n",
    "\n",
    "● The primary key for both data1 and data2 is Order Id + Product ID combination (i.e. the\n",
    "individual datasets do not have any duplicate on this combination)\n",
    "Provide solution and approach for the following:\n",
    "1. How to identify the Records (Order ID + Product ID combination) present in data1 but\n",
    "missing in data2 (Specify the number of records missing in your answer)\n",
    "2. How to identify the Records (Order ID + Product ID combination) missing in data1 but\n",
    "present in data2 (Specify the number of records missing in your answer)\n",
    "3. Find the Sum of the total Qty of Records missing in data1 but present in data2\n",
    "4. Find the total number of unique records (Order ID + Product ID combination) present in\n",
    "the combined dataset of data1 and data2"
   ]
  },
  {
   "cell_type": "markdown",
   "id": "ab65f419",
   "metadata": {},
   "source": [
    "**Importing libraries to fetching out the data from ``xlsx`` format**"
   ]
  },
  {
   "cell_type": "code",
   "execution_count": 2,
   "id": "2bc302f3",
   "metadata": {},
   "outputs": [],
   "source": [
    "import pandas as pd"
   ]
  },
  {
   "cell_type": "code",
   "execution_count": 8,
   "id": "175c6e51",
   "metadata": {},
   "outputs": [],
   "source": [
    "data1 = pd.read_excel('Records Matching Task.xlsx')\n",
    "data2 = pd.read_excel('Records Matching Task.xlsx',sheet_name='data2')"
   ]
  },
  {
   "cell_type": "code",
   "execution_count": 11,
   "id": "f8f14234",
   "metadata": {},
   "outputs": [
    {
     "data": {
      "text/html": [
       "<div>\n",
       "<style scoped>\n",
       "    .dataframe tbody tr th:only-of-type {\n",
       "        vertical-align: middle;\n",
       "    }\n",
       "\n",
       "    .dataframe tbody tr th {\n",
       "        vertical-align: top;\n",
       "    }\n",
       "\n",
       "    .dataframe thead th {\n",
       "        text-align: right;\n",
       "    }\n",
       "</style>\n",
       "<table border=\"1\" class=\"dataframe\">\n",
       "  <thead>\n",
       "    <tr style=\"text-align: right;\">\n",
       "      <th></th>\n",
       "      <th>Order ID</th>\n",
       "      <th>Product ID</th>\n",
       "      <th>Qty</th>\n",
       "    </tr>\n",
       "  </thead>\n",
       "  <tbody>\n",
       "    <tr>\n",
       "      <th>0</th>\n",
       "      <td>CA-2014-100006</td>\n",
       "      <td>TEC-PH-10002075</td>\n",
       "      <td>3</td>\n",
       "    </tr>\n",
       "    <tr>\n",
       "      <th>1</th>\n",
       "      <td>CA-2014-100090</td>\n",
       "      <td>FUR-TA-10003715</td>\n",
       "      <td>3</td>\n",
       "    </tr>\n",
       "  </tbody>\n",
       "</table>\n",
       "</div>"
      ],
      "text/plain": [
       "         Order ID       Product ID  Qty\n",
       "0  CA-2014-100006  TEC-PH-10002075    3\n",
       "1  CA-2014-100090  FUR-TA-10003715    3"
      ]
     },
     "execution_count": 11,
     "metadata": {},
     "output_type": "execute_result"
    }
   ],
   "source": [
    "data1.head(2)"
   ]
  },
  {
   "cell_type": "code",
   "execution_count": 12,
   "id": "92ba1d44",
   "metadata": {},
   "outputs": [
    {
     "data": {
      "text/html": [
       "<div>\n",
       "<style scoped>\n",
       "    .dataframe tbody tr th:only-of-type {\n",
       "        vertical-align: middle;\n",
       "    }\n",
       "\n",
       "    .dataframe tbody tr th {\n",
       "        vertical-align: top;\n",
       "    }\n",
       "\n",
       "    .dataframe thead th {\n",
       "        text-align: right;\n",
       "    }\n",
       "</style>\n",
       "<table border=\"1\" class=\"dataframe\">\n",
       "  <thead>\n",
       "    <tr style=\"text-align: right;\">\n",
       "      <th></th>\n",
       "      <th>Order ID</th>\n",
       "      <th>Product ID</th>\n",
       "      <th>Qty</th>\n",
       "    </tr>\n",
       "  </thead>\n",
       "  <tbody>\n",
       "    <tr>\n",
       "      <th>0</th>\n",
       "      <td>CA-2014-100090</td>\n",
       "      <td>FUR-TA-10003715</td>\n",
       "      <td>3</td>\n",
       "    </tr>\n",
       "    <tr>\n",
       "      <th>1</th>\n",
       "      <td>CA-2014-100090</td>\n",
       "      <td>OFF-BI-10001597</td>\n",
       "      <td>6</td>\n",
       "    </tr>\n",
       "  </tbody>\n",
       "</table>\n",
       "</div>"
      ],
      "text/plain": [
       "         Order ID       Product ID  Qty\n",
       "0  CA-2014-100090  FUR-TA-10003715    3\n",
       "1  CA-2014-100090  OFF-BI-10001597    6"
      ]
     },
     "execution_count": 12,
     "metadata": {},
     "output_type": "execute_result"
    }
   ],
   "source": [
    "data2.head(2)"
   ]
  },
  {
   "cell_type": "markdown",
   "id": "b273b81f",
   "metadata": {},
   "source": [
    "**Adding new ``column``as per question that is ``Records`` in both the data's**"
   ]
  },
  {
   "cell_type": "code",
   "execution_count": 13,
   "id": "4a3d6979",
   "metadata": {},
   "outputs": [],
   "source": [
    "data1['Records'] = data1['Order ID'] + data1['Product ID']"
   ]
  },
  {
   "cell_type": "code",
   "execution_count": 15,
   "id": "abf20822",
   "metadata": {},
   "outputs": [],
   "source": [
    "data2['Records'] = data2['Order ID'] + data2['Product ID']"
   ]
  },
  {
   "cell_type": "code",
   "execution_count": 58,
   "id": "ab68dc70",
   "metadata": {
    "scrolled": true
   },
   "outputs": [
    {
     "name": "stdout",
     "output_type": "stream",
     "text": [
      "9478\n",
      "9479\n"
     ]
    }
   ],
   "source": [
    "print(data1['Records'].shape[0])\n",
    "print(data2['Records'].shape[0])"
   ]
  },
  {
   "cell_type": "markdown",
   "id": "f3809385",
   "metadata": {},
   "source": [
    "**First Question ``Answer``**"
   ]
  },
  {
   "cell_type": "code",
   "execution_count": 84,
   "id": "a110b79b",
   "metadata": {},
   "outputs": [
    {
     "name": "stdout",
     "output_type": "stream",
     "text": [
      "There are 507 missing values \n"
     ]
    }
   ],
   "source": [
    "# Two Methods To Do this Question\n",
    "\n",
    "#FIRST WAY\n",
    "check = ~ data1[\"Records\"].isin(data2[\"Records\"])\n",
    "fetching1 = data1.loc[check, \"Records\"]\n",
    "\n",
    "#SECOND WAY using ``a function`` that is set()\n",
    "\n",
    "sec = set(data1[\"Records\"]).difference(set(data2[\"Records\"]))\n",
    "\n",
    "#no. of records which is missing in data2 but present in data1\n",
    "print(\"There are {} missing values \".format(fetching1.shape[0]))"
   ]
  },
  {
   "cell_type": "markdown",
   "id": "58c2afde",
   "metadata": {},
   "source": [
    "**Second Question ``Answer``**"
   ]
  },
  {
   "cell_type": "code",
   "execution_count": 85,
   "id": "148b2dfe",
   "metadata": {},
   "outputs": [
    {
     "name": "stdout",
     "output_type": "stream",
     "text": [
      "There are 508 missing values \n"
     ]
    }
   ],
   "source": [
    "# Again two alternatives \n",
    "#First\n",
    "\n",
    "check = ~ data2['Records'].isin(data1['Records'])\n",
    "fetching2 = data2.loc[check]\n",
    "fetching2\n",
    "\n",
    "#Second\n",
    "\n",
    "sec = set(data2['Records']).difference(set(data1['Records']))\n",
    "\n",
    "print(\"There are {} missing values \".format(fetching2.shape[0]))"
   ]
  },
  {
   "cell_type": "markdown",
   "id": "6dcefcc5",
   "metadata": {},
   "source": [
    "**Third Question ``Answer``**"
   ]
  },
  {
   "cell_type": "code",
   "execution_count": 87,
   "id": "d49a54f8",
   "metadata": {},
   "outputs": [
    {
     "data": {
      "text/plain": [
       "1956"
      ]
     },
     "execution_count": 87,
     "metadata": {},
     "output_type": "execute_result"
    }
   ],
   "source": [
    "fetching2['Qty'].sum()"
   ]
  },
  {
   "cell_type": "markdown",
   "id": "94231f2e",
   "metadata": {},
   "source": [
    "**Fourth Question ``Answer``**"
   ]
  },
  {
   "cell_type": "code",
   "execution_count": 92,
   "id": "4fa410fb",
   "metadata": {},
   "outputs": [],
   "source": [
    "append_f1_f2 = pd.concat([fetching1, fetching2])\n",
    "\n",
    "#finding intersection of data 1 and data2\n",
    "new_data = data1.merge(data2)"
   ]
  },
  {
   "cell_type": "code",
   "execution_count": 95,
   "id": "ee333798",
   "metadata": {},
   "outputs": [
    {
     "name": "stdout",
     "output_type": "stream",
     "text": [
      "There are 9986 unique records we have \n"
     ]
    }
   ],
   "source": [
    "# and, appending dataframes 'new_data' and 'append_f1_f2' will gives the result\n",
    "unq_df = pd.concat([new_data, append_f1_f2])\n",
    "print(\"There are {} unique records we have \".format(unq_df.shape[0]))"
   ]
  },
  {
   "cell_type": "markdown",
   "id": "a054502c",
   "metadata": {},
   "source": [
    "**Till here done with ``1st Question`` or ``task``**"
   ]
  }
 ],
 "metadata": {
  "kernelspec": {
   "display_name": "Python 3",
   "language": "python",
   "name": "python3"
  },
  "language_info": {
   "codemirror_mode": {
    "name": "ipython",
    "version": 3
   },
   "file_extension": ".py",
   "mimetype": "text/x-python",
   "name": "python",
   "nbconvert_exporter": "python",
   "pygments_lexer": "ipython3",
   "version": "3.8.8"
  }
 },
 "nbformat": 4,
 "nbformat_minor": 5
}
